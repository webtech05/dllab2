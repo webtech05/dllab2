{
 "cells": [
  {
   "cell_type": "code",
   "execution_count": 3,
   "id": "91fb0063",
   "metadata": {},
   "outputs": [
    {
     "ename": "SyntaxError",
     "evalue": "unmatched ']' (1470516133.py, line 15)",
     "output_type": "error",
     "traceback": [
      "\u001b[1;36m  File \u001b[1;32m\"C:\\Users\\chand\\AppData\\Local\\Temp\\ipykernel_26280\\1470516133.py\"\u001b[1;36m, line \u001b[1;32m15\u001b[0m\n\u001b[1;33m    keras.layers.Dense(10, activation=\"softmax\") ])\u001b[0m\n\u001b[1;37m                                                 ^\u001b[0m\n\u001b[1;31mSyntaxError\u001b[0m\u001b[1;31m:\u001b[0m unmatched ']'\n"
     ]
    }
   ],
   "source": []
  },
  {
   "cell_type": "code",
   "execution_count": 4,
   "id": "f7b1a870",
   "metadata": {},
   "outputs": [
    {
     "ename": "SyntaxError",
     "evalue": "unmatched ']' (1470516133.py, line 15)",
     "output_type": "error",
     "traceback": [
      "\u001b[1;36m  File \u001b[1;32m\"C:\\Users\\chand\\AppData\\Local\\Temp\\ipykernel_26280\\1470516133.py\"\u001b[1;36m, line \u001b[1;32m15\u001b[0m\n\u001b[1;33m    keras.layers.Dense(10, activation=\"softmax\") ])\u001b[0m\n\u001b[1;37m                                                 ^\u001b[0m\n\u001b[1;31mSyntaxError\u001b[0m\u001b[1;31m:\u001b[0m unmatched ']'\n"
     ]
    }
   ],
   "source": [
    "# a. IMPORTING NECESSARY PACKAGES -> \n",
    "import tensorflow as tf \n",
    "from tensorflow import keras \n",
    "import matplotlib.pyplot as plt \n",
    "import random \n",
    "# b. LOAD THE TRAINING AND TESTING DATA (MNIST) -> \n",
    "mnist = tf.keras.datasets.mnist # Importing MNIST dataset \n",
    "(x_train, y_train), (x_test, y_test) = mnist.load_data() # Splitting it into training and testing dataplt.matshow(x_train[1]) \n",
    "plt.imshow(-x_train[0], cmap=\"gray\") \n",
    "x_train = x_train / 255 \n",
    "x_test = x_test / 255 \n",
    "# c. DEFINE THE NETWORK ARCHITECTURE USING KERAS -> model = keras.Sequential([ \n",
    "keras.layers.Flatten(input_shape=(28, 28)), \n",
    "keras.layers.Dense(128, activation=\"relu\"),\n",
    "keras.layers.Dense(10, activation=\"softmax\") ]) \n",
    "model.summary() \n",
    "# d. TRAIN THE MODEL USING SGD -> model.compile(optimizer=\"sgd\", \n",
    "loss=\"sparse_categorical_crossentropy\", metrics=['accuracy']) \n",
    "history=model.fit(x_train, \n",
    "y_train,validation_data=(x_test,y_test),epochs=10) \n",
    "# e. EVALUATE THE NETWORK test_loss,test_acc=model.evaluate(x_test,y_test) print(\"Loss=%.3f\" %test_loss) \n",
    "print(\"Accuracy=%.3f\" %test_acc) \n",
    "n=random.randint(0,9999) \n",
    "plt.imshow(x_test[n]) \n",
    "plt.show() \n",
    "x_train \n",
    "x_test \n",
    "predicted_value=model.predict(x_test) plt.imshow(x_test[n]) \n",
    "plt.show() \n",
    "print(predicted_value[n])\n",
    "# f. PLOT THE TRAINING LOSS AND ACCURACY -> \n",
    " # Plotting The Training Accuracy :- \n",
    "plt.plot(history.history['accuracy']) \n",
    "plt.plot(history.history['val_accuracy']) \n",
    "plt.title('model accuracy') \n",
    "plt.ylabel('accuracy') \n",
    "plt.xlabel('epoch') \n",
    "plt.legend(['Train', 'Validation'], loc='upper left') plt.show() \n",
    " # Plotting The Training Loss :- \n",
    "plt.plot(history.history['loss']) \n",
    "plt.plot(history.history['val_loss']) \n",
    "plt.title('model loss') \n",
    "plt.ylabel('loss') \n",
    "plt.xlabel('epoch') \n",
    "plt.legend(['Train', 'Validation'], loc='upper left') plt.show()\n"
   ]
  },
  {
   "cell_type": "code",
   "execution_count": null,
   "id": "78dd5afa",
   "metadata": {},
   "outputs": [],
   "source": []
  }
 ],
 "metadata": {
  "kernelspec": {
   "display_name": "Python 3 (ipykernel)",
   "language": "python",
   "name": "python3"
  },
  "language_info": {
   "codemirror_mode": {
    "name": "ipython",
    "version": 3
   },
   "file_extension": ".py",
   "mimetype": "text/x-python",
   "name": "python",
   "nbconvert_exporter": "python",
   "pygments_lexer": "ipython3",
   "version": "3.9.13"
  }
 },
 "nbformat": 4,
 "nbformat_minor": 5
}
